{
 "cells": [
  {
   "cell_type": "markdown",
   "metadata": {},
   "source": [
    "# Radioactive Decay Energy\n",
    "\n",
    "Within the ejecta of a supernova, the $\\gamma$-rays largely come from the decay of $^{56}Ni$ into $^{56}Co$, which releases a significant amount of energy. \n",
    "\n",
    "When $^{56}Ni$ decays into $^{56}Co$ it can release a $\\gamma$-ray at several different transition levels. Each transition level has an energy and an associated probability out of 100 decays. For example, the transition from Energy level 9 to Energy level 7 has an energy of 0.270 Mev and a probability of 36.5 out of 100 decays. To find the total energy per decay you multipliy each energy with its associated probability and add them all up."
   ]
  },
  {
   "cell_type": "code",
   "execution_count": 1,
   "metadata": {},
   "outputs": [],
   "source": [
    "import numpy as np\n",
    "from astropy import units as u\n",
    "from astropy import constants as const"
   ]
  },
  {
   "cell_type": "code",
   "execution_count": 2,
   "metadata": {},
   "outputs": [
    {
     "data": {
      "text/latex": [
       "$1.7202 \\; \\mathrm{meV}$"
      ],
      "text/plain": [
       "<Quantity 1.7202 meV>"
      ]
     },
     "execution_count": 2,
     "metadata": {},
     "output_type": "execute_result"
    }
   ],
   "source": [
    "# energies of each transition\n",
    "t_energies = np.array([0.270, 0.750, 0.480, 1.56, 0.812, 0.158]) * u.meV\n",
    "# probabilities of each transition\n",
    "t_prob = np.array([.365, .495, .366, .140, .860, 1.00])\n",
    "\n",
    "energy_per_decay = sum(t_energies * t_prob)\n",
    "energy_per_decay"
   ]
  },
  {
   "cell_type": "markdown",
   "metadata": {},
   "source": [
    "From the above cell, we get the energy per transition of 1.72 MeV. Note that this comes from a simplified scheme of energies and the real total energy per $^{56}Ni$ decay we use is 1.75 MeV. <strong data-cite=\"1994Nadyozhin\">[]</strong> "
   ]
  },
  {
   "cell_type": "markdown",
   "metadata": {},
   "source": [
    "The $^{56}Co$ produced from the decay of $^{56}Ni$ is also radioactive and will decay into $^{56}Fe$ and release more $\\gamma$-rays, however this decay is more complicated than the decay of $^{56}Ni$. Whereas $^{56}Ni$ only decays through electron capture, $^{56}Co$ can decay either by electron capture, which occurs for 81 out of 100 cases, or through positron decay, which occurs for 19 out of 100 cases.\n",
    "\n",
    "Positron decay produces positrons with a given kinetic energy, that will eventually annihilate with electrons to produce two 0.511 MeV $\\gamma$-rays. The scheme of decays for $^{56}Co$ is slightly more complicated than the $^{56}Ni$ scheme, but to find the total energy per decay, you follow the same process. The total energy per decay from $\\gamma$-rays is 3.61 MeV and the total kinetic energy of positrons is 0.12 MeV"
   ]
  },
  {
   "cell_type": "markdown",
   "metadata": {},
   "source": [
    " The total rate of energy production for a mass of $^{56}Ni$ at a given time is given by the following equation:\n",
    "\n",
    "$$\\epsilon = \\frac{M_\\odot}{56m_{u}}\\frac{1}{\\tau_{\\text{Co}}-\\tau_{\\text{Ni}}}[[Q_{\\text{Ni}}(\\frac{\\tau_{\\text{Co}}}{\\tau_{\\text{Ni}}}-1)-Q_{\\text{Co}}]\\exp(-t/\\tau_{\\text{Ni}})+Q_{\\text{Co}}\\exp(-t/\\tau_{\\text{Co}})]\\frac{M_{Ni0}}{M_\\odot}$$\n",
    "\n",
    "$M_\\odot$ is a solar mass. $56_{u}$ is 56 atomic mass units. \n",
    "\n",
    "$\\tau_{Ni}$ is the lifetime of $^{56}Ni$ which is 8.80 days and $\\tau_{Co}$ is the lifetime of $^{56}Co$ which is 111.3 days. \n",
    "\n",
    "$Q_{\\text{Ni}}$ is the energy per decay of $^{56}Ni$ which is 1.75 MeV and $Q_{\\text{Co}}$ is the sum of the energy per decay pf $^{56}Co$ from $\\gamma$-rays and the kinetic energy from positrons which is 3.73 MeV\n",
    "\n",
    "If we plug these values into the equation we get the equation:\n",
    "\n",
    "$$\\epsilon = (6.45e43\\exp(-t/8.8)+1.45e43\\exp(-t/111.3))\\frac{M_{Ni0}}{M_\\odot} erg/s$$"
   ]
  },
  {
   "cell_type": "code",
   "execution_count": 12,
   "metadata": {},
   "outputs": [
    {
     "name": "stdout",
     "output_type": "stream",
     "text": [
      "The total energy production rate for 1 solar mass of 56Ni after 10 days is: 3.40e+43 erg / s\n"
     ]
    }
   ],
   "source": [
    "#time in days\n",
    "time = 10 * u.day\n",
    "#mass of Ni56 in solar masses\n",
    "m_Ni56 = 1 * const.M_sun\n",
    "\n",
    "energy_production_rate = (6.45e43 * np.exp(-time/(8.8*u.day)) + 1.45e43 * np.exp(-time/(111.3*u.day))) * (m_Ni56/ const.M_sun) * u.erg /u.s\n",
    "\n",
    "print(f\"The total energy production rate for 1 solar mass of 56Ni after 10 days is: {energy_production_rate:.2e}\")"
   ]
  },
  {
   "cell_type": "code",
   "execution_count": 11,
   "metadata": {},
   "outputs": [
    {
     "name": "stdout",
     "output_type": "stream",
     "text": [
      "The total energy production for 1 solar mass of 56Ni is: 1.885e+50 erg\n"
     ]
    }
   ],
   "source": [
    "total_energy_production = 1.885e50 * (m_Ni56/const.M_sun) * u.erg\n",
    "print(f\"The total energy production for 1 solar mass of 56Ni is: {total_energy_production}\")"
   ]
  },
  {
   "cell_type": "code",
   "execution_count": null,
   "metadata": {},
   "outputs": [],
   "source": []
  }
 ],
 "metadata": {
  "kernelspec": {
   "display_name": "tardis",
   "language": "python",
   "name": "python3"
  },
  "language_info": {
   "codemirror_mode": {
    "name": "ipython",
    "version": 3
   },
   "file_extension": ".py",
   "mimetype": "text/x-python",
   "name": "python",
   "nbconvert_exporter": "python",
   "pygments_lexer": "ipython3",
   "version": "3.12.4"
  }
 },
 "nbformat": 4,
 "nbformat_minor": 2
}
