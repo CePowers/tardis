{
 "cells": [
  {
   "cell_type": "markdown",
   "metadata": {},
   "source": [
    "# Radioactive Decay Energy\n",
    "\n",
    "Within the ejecta of a supernova, the $\\gamma$-rays largely come from the decay of $^{56}Ni$ into $^{56}Co$, which releases a significant amount of energy. \n",
    "\n",
    "When $^{56}Ni$ decays into $^{56}Co$ it can release a $\\gamma$-ray at several different transition levels. Each transition level has an energy and an associated probability out of 100 decays. For example, the transition from Energy level 9 to Energy level 7 has an energy of 0.270 Mev and a probability of 36.5 out of 100 decays. To find the total energy per decay you multipliy each energy with its associated probability and add them all up."
   ]
  },
  {
   "cell_type": "code",
   "execution_count": 1,
   "metadata": {},
   "outputs": [
    {
     "name": "stderr",
     "output_type": "stream",
     "text": [
      "/home/ceceliapowers/software/tardis/tardis/__init__.py:23: UserWarning: Astropy is already imported externally. Astropy should be imported after TARDIS.\n",
      "  warnings.warn(\n"
     ]
    },
    {
     "data": {
      "application/vnd.jupyter.widget-view+json": {
       "model_id": "9043fe66d7024af98ed8b7c1bb9219c0",
       "version_major": 2,
       "version_minor": 0
      },
      "text/plain": [
       "Iterations:          0/? [00:00<?, ?it/s]"
      ]
     },
     "metadata": {},
     "output_type": "display_data"
    },
    {
     "data": {
      "application/vnd.jupyter.widget-view+json": {
       "model_id": "61d9b7ed7fc148118fb1c17dc26324e0",
       "version_major": 2,
       "version_minor": 0
      },
      "text/plain": [
       "Packets:             0/? [00:00<?, ?it/s]"
      ]
     },
     "metadata": {},
     "output_type": "display_data"
    }
   ],
   "source": [
    "import numpy as np\n",
    "import pandas as pd\n",
    "from astropy import units as u\n",
    "from astropy import constants as const\n",
    "\n",
    "from tardis.energy_input.gamma_ray_channel import create_isotope_dicts\n",
    "from tardis.energy_input.gamma_ray_channel import create_inventories_dict\n",
    "from tardis.energy_input.gamma_ray_channel import calculate_total_decays\n",
    "from tardis.energy_input.gamma_ray_channel import create_isotope_decay_df"
   ]
  },
  {
   "cell_type": "code",
   "execution_count": 2,
   "metadata": {},
   "outputs": [
    {
     "data": {
      "text/latex": [
       "$1.7202 \\; \\mathrm{MeV}$"
      ],
      "text/plain": [
       "<Quantity 1.7202 MeV>"
      ]
     },
     "execution_count": 2,
     "metadata": {},
     "output_type": "execute_result"
    }
   ],
   "source": [
    "# energies of each transition\n",
    "t_energies = np.array([0.270, 0.750, 0.480, 1.56, 0.812, 0.158]) * u.MeV\n",
    "# probabilities of each transition\n",
    "t_prob = np.array([.365, .495, .366, .140, .860, 1.00])\n",
    "\n",
    "energy_per_decay = sum(t_energies * t_prob)\n",
    "energy_per_decay"
   ]
  },
  {
   "cell_type": "markdown",
   "metadata": {},
   "source": [
    "From the above cell, we get the energy per transition of 1.72 MeV. Note that this comes from a simplified scheme of energies and the real total energy per $^{56}Ni$ decay we use is 1.75 MeV. <strong data-cite=\"1994Nadyozhin\">[]</strong> "
   ]
  },
  {
   "cell_type": "markdown",
   "metadata": {},
   "source": [
    "The $^{56}Co$ produced from the decay of $^{56}Ni$ is also radioactive and will decay into $^{56}Fe$ and release more $\\gamma$-rays, however this decay is more complicated than the decay of $^{56}Ni$. Whereas $^{56}Ni$ only decays through electron capture, $^{56}Co$ can decay either by electron capture, which occurs for 81 out of 100 cases, or through positron decay, which occurs for 19 out of 100 cases.\n",
    "\n",
    "Positron decay produces positrons with a given kinetic energy, that will eventually annihilate with electrons to produce two 0.511 MeV $\\gamma$-rays. The scheme of decays for $^{56}Co$ is slightly more complicated than the $^{56}Ni$ scheme, but to find the total energy per decay, you follow the same process. The total energy per decay from $\\gamma$-rays is 3.61 MeV and the total kinetic energy of positrons is 0.12 MeV"
   ]
  },
  {
   "cell_type": "markdown",
   "metadata": {},
   "source": [
    " The total rate of energy production for a mass of $^{56}Ni$ at a given time is given by the following equation:\n",
    "\n",
    "$$\\epsilon = \\frac{M_\\odot}{56m_{u}}\\frac{1}{\\tau_{\\text{Co}}-\\tau_{\\text{Ni}}}[[Q_{\\text{Ni}}(\\frac{\\tau_{\\text{Co}}}{\\tau_{\\text{Ni}}}-1)-Q_{\\text{Co}}]\\exp(-t/\\tau_{\\text{Ni}})+Q_{\\text{Co}}\\exp(-t/\\tau_{\\text{Co}})]\\frac{M_{Ni0}}{M_\\odot}$$\n",
    "\n",
    "$M_\\odot$ is a solar mass. $56_{u}$ is 56 atomic mass units. \n",
    "\n",
    "$\\tau_{Ni}$ is the lifetime of $^{56}Ni$ which is 8.80 days and $\\tau_{Co}$ is the lifetime of $^{56}Co$ which is 111.3 days. \n",
    "\n",
    "$Q_{\\text{Ni}}$ is the energy per decay of $^{56}Ni$ which is 1.75 MeV and $Q_{\\text{Co}}$ is the sum of the energy per decay pf $^{56}Co$ from $\\gamma$-rays and the kinetic energy from positrons which is 3.73 MeV\n",
    "\n",
    "If we plug these values into the equation we get the equation:\n",
    "\n",
    "$$\\epsilon = (6.45e43\\exp(-t/8.8)+1.45e43\\exp(-t/111.3))\\frac{M_{Ni0}}{M_\\odot} erg/s$$"
   ]
  },
  {
   "cell_type": "code",
   "execution_count": 3,
   "metadata": {},
   "outputs": [
    {
     "name": "stdout",
     "output_type": "stream",
     "text": [
      "The total energy production rate for 1 solar mass of 56Ni after 10 days is: 3.40e+43 erg / s\n"
     ]
    }
   ],
   "source": [
    "#time in days\n",
    "time = 10 * u.day\n",
    "#mass of Ni56 in solar masses\n",
    "m_Ni56 = 1 * const.M_sun\n",
    "\n",
    "energy_production_rate = (6.45e43 * np.exp(-time/(8.8*u.day)) + 1.45e43 * np.exp(-time/(111.3*u.day))) * (m_Ni56/ const.M_sun) * u.erg /u.s\n",
    "\n",
    "print(f\"The total energy production rate for 1 solar mass of 56Ni after 10 days is: {energy_production_rate:.2e}\")"
   ]
  },
  {
   "cell_type": "code",
   "execution_count": 4,
   "metadata": {},
   "outputs": [
    {
     "name": "stdout",
     "output_type": "stream",
     "text": [
      "The total energy production for 1 solar mass of 56Ni is: 1.885e+50 erg\n"
     ]
    }
   ],
   "source": [
    "total_energy_production = 1.885e50 * (m_Ni56/const.M_sun) * u.erg\n",
    "print(f\"The total energy production for 1 solar mass of 56Ni is: {total_energy_production}\")"
   ]
  },
  {
   "cell_type": "markdown",
   "metadata": {},
   "source": [
    "Next we show how we can find the same result from functions in TARDIS-HE"
   ]
  },
  {
   "cell_type": "code",
   "execution_count": 5,
   "metadata": {},
   "outputs": [
    {
     "data": {
      "text/html": [
       "<div>\n",
       "<style scoped>\n",
       "    .dataframe tbody tr th:only-of-type {\n",
       "        vertical-align: middle;\n",
       "    }\n",
       "\n",
       "    .dataframe tbody tr th {\n",
       "        vertical-align: top;\n",
       "    }\n",
       "\n",
       "    .dataframe thead th {\n",
       "        text-align: right;\n",
       "    }\n",
       "</style>\n",
       "<table border=\"1\" class=\"dataframe\">\n",
       "  <thead>\n",
       "    <tr style=\"text-align: right;\">\n",
       "      <th></th>\n",
       "      <th></th>\n",
       "      <th>0</th>\n",
       "      <th>1</th>\n",
       "      <th>2</th>\n",
       "      <th>3</th>\n",
       "      <th>4</th>\n",
       "    </tr>\n",
       "    <tr>\n",
       "      <th>atomic_number</th>\n",
       "      <th>mass_number</th>\n",
       "      <th></th>\n",
       "      <th></th>\n",
       "      <th></th>\n",
       "      <th></th>\n",
       "      <th></th>\n",
       "    </tr>\n",
       "  </thead>\n",
       "  <tbody>\n",
       "    <tr>\n",
       "      <th>28</th>\n",
       "      <th>56</th>\n",
       "      <td>1</td>\n",
       "      <td>1</td>\n",
       "      <td>1</td>\n",
       "      <td>1</td>\n",
       "      <td>1</td>\n",
       "    </tr>\n",
       "  </tbody>\n",
       "</table>\n",
       "</div>"
      ],
      "text/plain": [
       "                           0  1  2  3  4\n",
       "atomic_number mass_number               \n",
       "28            56           1  1  1  1  1"
      ]
     },
     "execution_count": 5,
     "metadata": {},
     "output_type": "execute_result"
    }
   ],
   "source": [
    "mass_fractions = {0:1,\n",
    "                  1:1,\n",
    "                  2:1,\n",
    "                  3:1,\n",
    "                  4:1}\n",
    "\n",
    "raw_isotope_abundance = pd.DataFrame(mass_fractions, index=pd.MultiIndex.from_tuples([(28, 56)], names=[\"atomic_number\", \"mass_number\"]))\n",
    "raw_isotope_abundance"
   ]
  },
  {
   "cell_type": "code",
   "execution_count": 6,
   "metadata": {},
   "outputs": [
    {
     "data": {
      "text/latex": [
       "$[3.9768197 \\times 10^{32},~3.9768197 \\times 10^{32},~3.9768197 \\times 10^{32},~3.9768197 \\times 10^{32},~3.9768197 \\times 10^{32}] \\; \\mathrm{g}$"
      ],
      "text/plain": [
       "<Quantity [3.97681974e+32, 3.97681974e+32, 3.97681974e+32, 3.97681974e+32,\n",
       "           3.97681974e+32] g>"
      ]
     },
     "execution_count": 6,
     "metadata": {},
     "output_type": "execute_result"
    }
   ],
   "source": [
    "shell_masses = np.ones(5)*0.2*const.M_sun.to(u.g)\n",
    "shell_masses"
   ]
  },
  {
   "cell_type": "code",
   "execution_count": 7,
   "metadata": {},
   "outputs": [
    {
     "data": {
      "text/plain": [
       "{0: {'Ni56': 3.976819741396102e+32},\n",
       " 1: {'Ni56': 3.976819741396102e+32},\n",
       " 2: {'Ni56': 3.976819741396102e+32},\n",
       " 3: {'Ni56': 3.976819741396102e+32},\n",
       " 4: {'Ni56': 3.976819741396102e+32}}"
      ]
     },
     "execution_count": 7,
     "metadata": {},
     "output_type": "execute_result"
    }
   ],
   "source": [
    "isotope_dict = create_isotope_dicts(raw_isotope_abundance, shell_masses)\n",
    "isotope_dict"
   ]
  },
  {
   "cell_type": "code",
   "execution_count": 8,
   "metadata": {},
   "outputs": [
    {
     "data": {
      "text/plain": [
       "{0: Inventory activities (Bq): {'Ni-56': 5.653446204017355e+48}, decay dataset: icrp107_ame2020_nubase2020,\n",
       " 1: Inventory activities (Bq): {'Ni-56': 5.653446204017355e+48}, decay dataset: icrp107_ame2020_nubase2020,\n",
       " 2: Inventory activities (Bq): {'Ni-56': 5.653446204017355e+48}, decay dataset: icrp107_ame2020_nubase2020,\n",
       " 3: Inventory activities (Bq): {'Ni-56': 5.653446204017355e+48}, decay dataset: icrp107_ame2020_nubase2020,\n",
       " 4: Inventory activities (Bq): {'Ni-56': 5.653446204017355e+48}, decay dataset: icrp107_ame2020_nubase2020}"
      ]
     },
     "execution_count": 8,
     "metadata": {},
     "output_type": "execute_result"
    }
   ],
   "source": [
    "inventories = create_inventories_dict(isotope_dict)\n",
    "inventories"
   ]
  },
  {
   "cell_type": "code",
   "execution_count": 10,
   "metadata": {},
   "outputs": [
    {
     "name": "stdout",
     "output_type": "stream",
     "text": [
      "                      number_of_decays\n",
      "shell_number isotope                  \n",
      "0            Ni56         2.913217e+54\n",
      "             Co56         1.501419e+53\n",
      "1            Ni56         2.913217e+54\n",
      "             Co56         1.501419e+53\n",
      "2            Ni56         2.913217e+54\n",
      "             Co56         1.501419e+53\n",
      "3            Ni56         2.913217e+54\n",
      "             Co56         1.501419e+53\n",
      "4            Ni56         2.913217e+54\n",
      "             Co56         1.501419e+53\n"
     ]
    }
   ],
   "source": [
    "cumulative_decay_df = calculate_total_decays(inventories, time)\n",
    "print(cumulative_decay_df)"
   ]
  },
  {
   "cell_type": "code",
   "execution_count": 23,
   "metadata": {},
   "outputs": [],
   "source": [
    "total_Ni56_decays = 0\n",
    "for i in range(5):\n",
    "    total_Ni56_decays += cumulative_decay_df.loc[(i,\"Ni56\")].item()\n",
    "\n",
    "total_Co56_decays = 0\n",
    "for i in range(5):\n",
    "    total_Co56_decays += cumulative_decay_df.loc[(i,\"Co56\")].item()"
   ]
  },
  {
   "cell_type": "code",
   "execution_count": 24,
   "metadata": {},
   "outputs": [],
   "source": [
    "Ni56_decay_energy = total_Ni56_decays * 1.75*u.MeV\n",
    "Co56_decay_energy = total_Co56_decays * 3.61*u.MeV"
   ]
  },
  {
   "cell_type": "code",
   "execution_count": 26,
   "metadata": {},
   "outputs": [
    {
     "data": {
      "text/latex": [
       "$4.5182524 \\times 10^{49} \\; \\mathrm{erg}$"
      ],
      "text/plain": [
       "<Quantity 4.51825242e+49 erg>"
      ]
     },
     "execution_count": 26,
     "metadata": {},
     "output_type": "execute_result"
    }
   ],
   "source": [
    "total_decay_energy = Ni56_decay_energy + Co56_decay_energy\n",
    "total_decay_energy.to(u.erg)"
   ]
  },
  {
   "cell_type": "code",
   "execution_count": null,
   "metadata": {},
   "outputs": [],
   "source": []
  }
 ],
 "metadata": {
  "kernelspec": {
   "display_name": "tardis",
   "language": "python",
   "name": "python3"
  },
  "language_info": {
   "codemirror_mode": {
    "name": "ipython",
    "version": 3
   },
   "file_extension": ".py",
   "mimetype": "text/x-python",
   "name": "python",
   "nbconvert_exporter": "python",
   "pygments_lexer": "ipython3",
   "version": "3.12.4"
  }
 },
 "nbformat": 4,
 "nbformat_minor": 2
}
