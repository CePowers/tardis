{
 "cells": [
  {
   "cell_type": "markdown",
   "metadata": {},
   "source": [
    "# Radioactive Decay Energy\n",
    "\n",
    "Within the ejecta of a supernova, the $\\gamma$-rays largely come from the decay of $^{56}Ni$ into $^{56}Co$, which releases a significant amount of energy. \n",
    "\n",
    "When $^{56}Ni$ decays into $^{56}Co$ it can release a $\\gamma$-ray at several different transition levels. Each transition level has an energy and an associated probability out of 100 decays. For example, the transition from Energy level 9 to Energy level 7 has an energy of 0.270 Mev and a probability of 36.5 out of 100 decays. To find the total energy per decay you multipliy each energy with its associated probability and add them all up."
   ]
  },
  {
   "cell_type": "code",
   "execution_count": 2,
   "metadata": {},
   "outputs": [
    {
     "name": "stderr",
     "output_type": "stream",
     "text": [
      "/home/ceceliapowers/software/tardis/tardis/__init__.py:23: UserWarning: Astropy is already imported externally. Astropy should be imported after TARDIS.\n",
      "  warnings.warn(\n"
     ]
    },
    {
     "data": {
      "application/vnd.jupyter.widget-view+json": {
       "model_id": "6ac51b7b195f464a86632035057ac9b4",
       "version_major": 2,
       "version_minor": 0
      },
      "text/plain": [
       "Iterations:          0/? [00:00<?, ?it/s]"
      ]
     },
     "metadata": {},
     "output_type": "display_data"
    },
    {
     "data": {
      "application/vnd.jupyter.widget-view+json": {
       "model_id": "c56dc246f8604ddda5804f4da5b3a401",
       "version_major": 2,
       "version_minor": 0
      },
      "text/plain": [
       "Packets:             0/? [00:00<?, ?it/s]"
      ]
     },
     "metadata": {},
     "output_type": "display_data"
    }
   ],
   "source": [
    "import numpy as np\n",
    "import pandas as pd\n",
    "from astropy import units as u\n",
    "from astropy import constants as const\n",
    "\n",
    "from tardis.energy_input.gamma_ray_channel import create_isotope_dicts\n",
    "from tardis.energy_input.gamma_ray_channel import create_inventories_dict\n",
    "from tardis.energy_input.gamma_ray_channel import calculate_total_decays\n",
    "from tardis.energy_input.gamma_ray_channel import create_isotope_decay_df\n",
    "from tardis.energy_input.energy_source import get_nuclear_lines_database\n",
    "from tardis.io.atom_data import download_atom_data\n",
    "from tardis.io.atom_data import AtomData"
   ]
  },
  {
   "cell_type": "code",
   "execution_count": 3,
   "metadata": {},
   "outputs": [
    {
     "data": {
      "text/latex": [
       "$1.7202 \\; \\mathrm{MeV}$"
      ],
      "text/plain": [
       "<Quantity 1.7202 MeV>"
      ]
     },
     "execution_count": 3,
     "metadata": {},
     "output_type": "execute_result"
    }
   ],
   "source": [
    "# energies of each transition\n",
    "t_energies = np.array([0.270, 0.750, 0.480, 1.56, 0.812, 0.158]) * u.MeV\n",
    "# probabilities of each transition\n",
    "t_prob = np.array([.365, .495, .366, .140, .860, 1.00])\n",
    "\n",
    "energy_per_decay = sum(t_energies * t_prob)\n",
    "energy_per_decay"
   ]
  },
  {
   "cell_type": "markdown",
   "metadata": {},
   "source": [
    "From the above cell, we get the energy per transition of 1.72 MeV. Note that this comes from a simplified scheme of energies and the real total energy per $^{56}Ni$ decay we use is 1.75 MeV. <strong data-cite=\"1994Nadyozhin\">[]</strong> "
   ]
  },
  {
   "cell_type": "markdown",
   "metadata": {},
   "source": [
    "The $^{56}Co$ produced from the decay of $^{56}Ni$ is also radioactive and will decay into $^{56}Fe$ and release more $\\gamma$-rays, however this decay is more complicated than the decay of $^{56}Ni$. Whereas $^{56}Ni$ only decays through electron capture, $^{56}Co$ can decay either by electron capture, which occurs for 81 out of 100 cases, or through positron decay, which occurs for 19 out of 100 cases.\n",
    "\n",
    "Positron decay produces positrons with a given kinetic energy, that will eventually annihilate with electrons to produce two 0.511 MeV $\\gamma$-rays. The scheme of decays for $^{56}Co$ is slightly more complicated than the $^{56}Ni$ scheme, but to find the total energy per decay, you follow the same process. The total energy per decay from $\\gamma$-rays is 3.61 MeV and the total kinetic energy of positrons is 0.12 MeV"
   ]
  },
  {
   "cell_type": "markdown",
   "metadata": {},
   "source": [
    " The total rate of energy production for a mass of $^{56}Ni$ at a given time is given by the following equation:\n",
    "\n",
    "$$\\epsilon = \\frac{M_\\odot}{56m_{u}}\\frac{1}{\\tau_{\\text{Co}}-\\tau_{\\text{Ni}}}[[Q_{\\text{Ni}}(\\frac{\\tau_{\\text{Co}}}{\\tau_{\\text{Ni}}}-1)-Q_{\\text{Co}}]\\exp(-t/\\tau_{\\text{Ni}})+Q_{\\text{Co}}\\exp(-t/\\tau_{\\text{Co}})]\\frac{M_{Ni0}}{M_\\odot}$$\n",
    "\n",
    "$M_\\odot$ is a solar mass. $56_{u}$ is 56 atomic mass units. \n",
    "\n",
    "$\\tau_{Ni}$ is the lifetime of $^{56}Ni$ which is 8.80 days and $\\tau_{Co}$ is the lifetime of $^{56}Co$ which is 111.3 days. \n",
    "\n",
    "$Q_{\\text{Ni}}$ is the energy per decay of $^{56}Ni$ which is 1.75 MeV and $Q_{\\text{Co}}$ is the sum of the energy per decay pf $^{56}Co$ from $\\gamma$-rays and the kinetic energy from positrons which is 3.73 MeV\n",
    "\n",
    "If we plug these values into the equation we get the equation:\n",
    "\n",
    "$$\\epsilon = (6.45e43\\exp(-t/8.8)+1.45e43\\exp(-t/111.3))\\frac{M_{Ni0}}{M_\\odot} erg/s$$"
   ]
  },
  {
   "cell_type": "code",
   "execution_count": 4,
   "metadata": {},
   "outputs": [
    {
     "name": "stdout",
     "output_type": "stream",
     "text": [
      "The total energy production rate for 1 solar mass of 56Ni after 10 days is: 3.40e+43 erg / s\n"
     ]
    }
   ],
   "source": [
    "#time in days\n",
    "time = 10 * u.day\n",
    "#mass of Ni56 in solar masses\n",
    "m_Ni56 = 1 * const.M_sun\n",
    "\n",
    "energy_production_rate = (6.45e43 * np.exp(-time/(8.8*u.day)) + 1.45e43 * np.exp(-time/(111.3*u.day))) * (m_Ni56/ const.M_sun) * u.erg /u.s\n",
    "\n",
    "print(f\"The total energy production rate for 1 solar mass of 56Ni after 10 days is: {energy_production_rate:.2e}\")"
   ]
  },
  {
   "cell_type": "code",
   "execution_count": 5,
   "metadata": {},
   "outputs": [
    {
     "name": "stdout",
     "output_type": "stream",
     "text": [
      "The total energy production for 1 solar mass of 56Ni is: 1.885e+50 erg\n"
     ]
    }
   ],
   "source": [
    "total_energy_production = 1.885e50 * (m_Ni56/const.M_sun) * u.erg\n",
    "print(f\"The total energy production for 1 solar mass of 56Ni is: {total_energy_production}\")"
   ]
  },
  {
   "cell_type": "markdown",
   "metadata": {},
   "source": [
    "Next we show how we can find the same result from functions in TARDIS-HE\n",
    "\n",
    "First we create a DataFrame with isotope abundances. This DataFrame typically comes from a model, but for our purposes we create an ejecta with 5 shells, made entirely of $^{56}Ni$."
   ]
  },
  {
   "cell_type": "code",
   "execution_count": 6,
   "metadata": {},
   "outputs": [
    {
     "data": {
      "text/html": [
       "<div>\n",
       "<style scoped>\n",
       "    .dataframe tbody tr th:only-of-type {\n",
       "        vertical-align: middle;\n",
       "    }\n",
       "\n",
       "    .dataframe tbody tr th {\n",
       "        vertical-align: top;\n",
       "    }\n",
       "\n",
       "    .dataframe thead th {\n",
       "        text-align: right;\n",
       "    }\n",
       "</style>\n",
       "<table border=\"1\" class=\"dataframe\">\n",
       "  <thead>\n",
       "    <tr style=\"text-align: right;\">\n",
       "      <th></th>\n",
       "      <th></th>\n",
       "      <th>0</th>\n",
       "      <th>1</th>\n",
       "      <th>2</th>\n",
       "      <th>3</th>\n",
       "      <th>4</th>\n",
       "    </tr>\n",
       "    <tr>\n",
       "      <th>atomic_number</th>\n",
       "      <th>mass_number</th>\n",
       "      <th></th>\n",
       "      <th></th>\n",
       "      <th></th>\n",
       "      <th></th>\n",
       "      <th></th>\n",
       "    </tr>\n",
       "  </thead>\n",
       "  <tbody>\n",
       "    <tr>\n",
       "      <th>28</th>\n",
       "      <th>56</th>\n",
       "      <td>1</td>\n",
       "      <td>1</td>\n",
       "      <td>1</td>\n",
       "      <td>1</td>\n",
       "      <td>1</td>\n",
       "    </tr>\n",
       "  </tbody>\n",
       "</table>\n",
       "</div>"
      ],
      "text/plain": [
       "                           0  1  2  3  4\n",
       "atomic_number mass_number               \n",
       "28            56           1  1  1  1  1"
      ]
     },
     "execution_count": 6,
     "metadata": {},
     "output_type": "execute_result"
    }
   ],
   "source": [
    "mass_fractions = {0:1,\n",
    "                  1:1,\n",
    "                  2:1,\n",
    "                  3:1,\n",
    "                  4:1}\n",
    "\n",
    "raw_isotope_abundance = pd.DataFrame(mass_fractions, index=pd.MultiIndex.from_tuples([(28, 56)], names=[\"atomic_number\", \"mass_number\"]))\n",
    "raw_isotope_abundance"
   ]
  },
  {
   "cell_type": "markdown",
   "metadata": {},
   "source": [
    "Then we create an array of shell masses. We want to find the total energy production of 1 solar mass of $^{56}Ni$, so we give each of the five shells a mass of $\\frac{1}{5}M_\\odot$"
   ]
  },
  {
   "cell_type": "code",
   "execution_count": 7,
   "metadata": {},
   "outputs": [
    {
     "data": {
      "text/latex": [
       "$[3.9768197 \\times 10^{32},~3.9768197 \\times 10^{32},~3.9768197 \\times 10^{32},~3.9768197 \\times 10^{32},~3.9768197 \\times 10^{32}] \\; \\mathrm{g}$"
      ],
      "text/plain": [
       "<Quantity [3.97681974e+32, 3.97681974e+32, 3.97681974e+32, 3.97681974e+32,\n",
       "           3.97681974e+32] g>"
      ]
     },
     "execution_count": 7,
     "metadata": {},
     "output_type": "execute_result"
    }
   ],
   "source": [
    "shell_masses = np.ones(5)*0.2*const.M_sun.to(u.g)\n",
    "shell_masses"
   ]
  },
  {
   "cell_type": "markdown",
   "metadata": {},
   "source": [
    "Now we can use TARDIS-HE functions to get a DataFrame with the total number of decays and decay energy."
   ]
  },
  {
   "cell_type": "code",
   "execution_count": 8,
   "metadata": {},
   "outputs": [
    {
     "data": {
      "text/plain": [
       "{0: {'Ni56': 3.976819741396102e+32},\n",
       " 1: {'Ni56': 3.976819741396102e+32},\n",
       " 2: {'Ni56': 3.976819741396102e+32},\n",
       " 3: {'Ni56': 3.976819741396102e+32},\n",
       " 4: {'Ni56': 3.976819741396102e+32}}"
      ]
     },
     "execution_count": 8,
     "metadata": {},
     "output_type": "execute_result"
    }
   ],
   "source": [
    "isotope_dict = create_isotope_dicts(raw_isotope_abundance, shell_masses)\n",
    "isotope_dict"
   ]
  },
  {
   "cell_type": "code",
   "execution_count": 9,
   "metadata": {},
   "outputs": [
    {
     "data": {
      "text/plain": [
       "{0: Inventory activities (Bq): {'Ni-56': 5.653446204017355e+48}, decay dataset: icrp107_ame2020_nubase2020,\n",
       " 1: Inventory activities (Bq): {'Ni-56': 5.653446204017355e+48}, decay dataset: icrp107_ame2020_nubase2020,\n",
       " 2: Inventory activities (Bq): {'Ni-56': 5.653446204017355e+48}, decay dataset: icrp107_ame2020_nubase2020,\n",
       " 3: Inventory activities (Bq): {'Ni-56': 5.653446204017355e+48}, decay dataset: icrp107_ame2020_nubase2020,\n",
       " 4: Inventory activities (Bq): {'Ni-56': 5.653446204017355e+48}, decay dataset: icrp107_ame2020_nubase2020}"
      ]
     },
     "execution_count": 9,
     "metadata": {},
     "output_type": "execute_result"
    }
   ],
   "source": [
    "inventories = create_inventories_dict(isotope_dict)\n",
    "inventories"
   ]
  },
  {
   "cell_type": "code",
   "execution_count": 10,
   "metadata": {},
   "outputs": [
    {
     "name": "stdout",
     "output_type": "stream",
     "text": [
      "                      number_of_decays\n",
      "shell_number isotope                  \n",
      "0            Ni56         4.281026e+54\n",
      "             Co56         4.228761e+54\n",
      "1            Ni56         4.281026e+54\n",
      "             Co56         4.228761e+54\n",
      "2            Ni56         4.281026e+54\n",
      "             Co56         4.228761e+54\n",
      "3            Ni56         4.281026e+54\n",
      "             Co56         4.228761e+54\n",
      "4            Ni56         4.281026e+54\n",
      "             Co56         4.228761e+54\n"
     ]
    }
   ],
   "source": [
    "cumulative_decay_df = calculate_total_decays(inventories, 500*u.day)\n",
    "print(cumulative_decay_df)"
   ]
  },
  {
   "cell_type": "code",
   "execution_count": 11,
   "metadata": {},
   "outputs": [
    {
     "name": "stderr",
     "output_type": "stream",
     "text": [
      "WARNING:tardis.io.atom_data.atom_web_download:Atomic Data kurucz_cd23_chianti_H_He already exists in /home/ceceliapowers/Downloads/tardis-data/kurucz_cd23_chianti_H_He.h5. Will not download - override with force_download=True.\n"
     ]
    },
    {
     "name": "stderr",
     "output_type": "stream",
     "text": [
      "INFO:tardis.io.atom_data.util:\n",
      "\tAtom Data kurucz_cd23_chianti_H_He.h5 not found in local path.\n",
      "\tExists in TARDIS Data repo /home/ceceliapowers/Downloads/tardis-data/kurucz_cd23_chianti_H_He.h5\n",
      "INFO:tardis.io.atom_data.base:Reading Atom Data with: UUID = 6f7b09e887a311e7a06b246e96350010 MD5  = 864f1753714343c41f99cb065710cace \n",
      "INFO:tardis.io.atom_data.base:Non provided Atomic Data: synpp_refs, photoionization_data, yg_data, two_photon_data, linelist_atoms, linelist_molecules\n"
     ]
    }
   ],
   "source": [
    "download_atom_data('kurucz_cd23_chianti_H_He')\n",
    "atom_data_file = 'kurucz_cd23_chianti_H_He.h5'\n",
    "atom_data = AtomData.from_hdf(atom_data_file)\n",
    "gamma_ray_lines = atom_data.decay_radiation_data"
   ]
  },
  {
   "cell_type": "code",
   "execution_count": 12,
   "metadata": {},
   "outputs": [
    {
     "data": {
      "text/html": [
       "<div>\n",
       "<style scoped>\n",
       "    .dataframe tbody tr th:only-of-type {\n",
       "        vertical-align: middle;\n",
       "    }\n",
       "\n",
       "    .dataframe tbody tr th {\n",
       "        vertical-align: top;\n",
       "    }\n",
       "\n",
       "    .dataframe thead th {\n",
       "        text-align: right;\n",
       "    }\n",
       "</style>\n",
       "<table border=\"1\" class=\"dataframe\">\n",
       "  <thead>\n",
       "    <tr style=\"text-align: right;\">\n",
       "      <th></th>\n",
       "      <th></th>\n",
       "      <th>number_of_decays</th>\n",
       "      <th>decay_mode</th>\n",
       "      <th>radiation</th>\n",
       "      <th>radiation_energy_keV</th>\n",
       "      <th>radiation_intensity</th>\n",
       "      <th>energy_per_channel_keV</th>\n",
       "      <th>decay_energy_keV</th>\n",
       "      <th>decay_energy_erg</th>\n",
       "    </tr>\n",
       "    <tr>\n",
       "      <th>shell_number</th>\n",
       "      <th>isotope</th>\n",
       "      <th></th>\n",
       "      <th></th>\n",
       "      <th></th>\n",
       "      <th></th>\n",
       "      <th></th>\n",
       "      <th></th>\n",
       "      <th></th>\n",
       "      <th></th>\n",
       "    </tr>\n",
       "  </thead>\n",
       "  <tbody>\n",
       "    <tr>\n",
       "      <th rowspan=\"5\" valign=\"top\">0</th>\n",
       "      <th>Ni56</th>\n",
       "      <td>4.281026e+54</td>\n",
       "      <td>EC</td>\n",
       "      <td>bp</td>\n",
       "      <td>65.000</td>\n",
       "      <td>0.00060</td>\n",
       "      <td>0.000390</td>\n",
       "      <td>1.669600e+51</td>\n",
       "      <td>2.674994e+42</td>\n",
       "    </tr>\n",
       "    <tr>\n",
       "      <th>Ni56</th>\n",
       "      <td>4.281026e+54</td>\n",
       "      <td>EC</td>\n",
       "      <td>bp</td>\n",
       "      <td>408.000</td>\n",
       "      <td>0.00003</td>\n",
       "      <td>0.000122</td>\n",
       "      <td>5.239975e+50</td>\n",
       "      <td>8.395366e+41</td>\n",
       "    </tr>\n",
       "    <tr>\n",
       "      <th>Ni56</th>\n",
       "      <td>4.281026e+54</td>\n",
       "      <td>EC</td>\n",
       "      <td>bp</td>\n",
       "      <td>478.000</td>\n",
       "      <td>0.00003</td>\n",
       "      <td>0.000143</td>\n",
       "      <td>6.138991e+50</td>\n",
       "      <td>9.835748e+41</td>\n",
       "    </tr>\n",
       "    <tr>\n",
       "      <th>Ni56</th>\n",
       "      <td>4.281026e+54</td>\n",
       "      <td>EC</td>\n",
       "      <td>bp av</td>\n",
       "      <td>100.000</td>\n",
       "      <td>0.00070</td>\n",
       "      <td>0.000700</td>\n",
       "      <td>2.996718e+51</td>\n",
       "      <td>4.801271e+42</td>\n",
       "    </tr>\n",
       "    <tr>\n",
       "      <th>Ni56</th>\n",
       "      <td>4.281026e+54</td>\n",
       "      <td>EC</td>\n",
       "      <td>e</td>\n",
       "      <td>6.070</td>\n",
       "      <td>54.50000</td>\n",
       "      <td>3.308150</td>\n",
       "      <td>1.416227e+55</td>\n",
       "      <td>2.269047e+46</td>\n",
       "    </tr>\n",
       "    <tr>\n",
       "      <th>...</th>\n",
       "      <th>...</th>\n",
       "      <td>...</td>\n",
       "      <td>...</td>\n",
       "      <td>...</td>\n",
       "      <td>...</td>\n",
       "      <td>...</td>\n",
       "      <td>...</td>\n",
       "      <td>...</td>\n",
       "      <td>...</td>\n",
       "    </tr>\n",
       "    <tr>\n",
       "      <th rowspan=\"5\" valign=\"top\">4</th>\n",
       "      <th>Co56</th>\n",
       "      <td>4.228761e+54</td>\n",
       "      <td>EC</td>\n",
       "      <td>g</td>\n",
       "      <td>3369.860</td>\n",
       "      <td>0.01010</td>\n",
       "      <td>0.340356</td>\n",
       "      <td>1.439284e+54</td>\n",
       "      <td>2.305986e+45</td>\n",
       "    </tr>\n",
       "    <tr>\n",
       "      <th>Co56</th>\n",
       "      <td>4.228761e+54</td>\n",
       "      <td>EC</td>\n",
       "      <td>g</td>\n",
       "      <td>3451.232</td>\n",
       "      <td>0.94900</td>\n",
       "      <td>32.752192</td>\n",
       "      <td>1.385012e+56</td>\n",
       "      <td>2.219034e+47</td>\n",
       "    </tr>\n",
       "    <tr>\n",
       "      <th>Co56</th>\n",
       "      <td>4.228761e+54</td>\n",
       "      <td>EC</td>\n",
       "      <td>g</td>\n",
       "      <td>3548.050</td>\n",
       "      <td>0.19550</td>\n",
       "      <td>6.936438</td>\n",
       "      <td>2.933254e+55</td>\n",
       "      <td>4.699590e+46</td>\n",
       "    </tr>\n",
       "    <tr>\n",
       "      <th>Co56</th>\n",
       "      <td>4.228761e+54</td>\n",
       "      <td>EC</td>\n",
       "      <td>g</td>\n",
       "      <td>3600.800</td>\n",
       "      <td>0.01670</td>\n",
       "      <td>0.601334</td>\n",
       "      <td>2.542896e+54</td>\n",
       "      <td>4.074168e+45</td>\n",
       "    </tr>\n",
       "    <tr>\n",
       "      <th>Co56</th>\n",
       "      <td>4.228761e+54</td>\n",
       "      <td>EC</td>\n",
       "      <td>g</td>\n",
       "      <td>3611.530</td>\n",
       "      <td>0.00860</td>\n",
       "      <td>0.310592</td>\n",
       "      <td>1.313417e+54</td>\n",
       "      <td>2.104327e+45</td>\n",
       "    </tr>\n",
       "  </tbody>\n",
       "</table>\n",
       "<p>485 rows × 8 columns</p>\n",
       "</div>"
      ],
      "text/plain": [
       "                      number_of_decays decay_mode radiation  \\\n",
       "shell_number isotope                                          \n",
       "0            Ni56         4.281026e+54         EC        bp   \n",
       "             Ni56         4.281026e+54         EC        bp   \n",
       "             Ni56         4.281026e+54         EC        bp   \n",
       "             Ni56         4.281026e+54         EC     bp av   \n",
       "             Ni56         4.281026e+54         EC         e   \n",
       "...                                ...        ...       ...   \n",
       "4            Co56         4.228761e+54         EC         g   \n",
       "             Co56         4.228761e+54         EC         g   \n",
       "             Co56         4.228761e+54         EC         g   \n",
       "             Co56         4.228761e+54         EC         g   \n",
       "             Co56         4.228761e+54         EC         g   \n",
       "\n",
       "                      radiation_energy_keV  radiation_intensity  \\\n",
       "shell_number isotope                                              \n",
       "0            Ni56                   65.000              0.00060   \n",
       "             Ni56                  408.000              0.00003   \n",
       "             Ni56                  478.000              0.00003   \n",
       "             Ni56                  100.000              0.00070   \n",
       "             Ni56                    6.070             54.50000   \n",
       "...                                    ...                  ...   \n",
       "4            Co56                 3369.860              0.01010   \n",
       "             Co56                 3451.232              0.94900   \n",
       "             Co56                 3548.050              0.19550   \n",
       "             Co56                 3600.800              0.01670   \n",
       "             Co56                 3611.530              0.00860   \n",
       "\n",
       "                      energy_per_channel_keV  decay_energy_keV  \\\n",
       "shell_number isotope                                             \n",
       "0            Ni56                   0.000390      1.669600e+51   \n",
       "             Ni56                   0.000122      5.239975e+50   \n",
       "             Ni56                   0.000143      6.138991e+50   \n",
       "             Ni56                   0.000700      2.996718e+51   \n",
       "             Ni56                   3.308150      1.416227e+55   \n",
       "...                                      ...               ...   \n",
       "4            Co56                   0.340356      1.439284e+54   \n",
       "             Co56                  32.752192      1.385012e+56   \n",
       "             Co56                   6.936438      2.933254e+55   \n",
       "             Co56                   0.601334      2.542896e+54   \n",
       "             Co56                   0.310592      1.313417e+54   \n",
       "\n",
       "                      decay_energy_erg  \n",
       "shell_number isotope                    \n",
       "0            Ni56         2.674994e+42  \n",
       "             Ni56         8.395366e+41  \n",
       "             Ni56         9.835748e+41  \n",
       "             Ni56         4.801271e+42  \n",
       "             Ni56         2.269047e+46  \n",
       "...                                ...  \n",
       "4            Co56         2.305986e+45  \n",
       "             Co56         2.219034e+47  \n",
       "             Co56         4.699590e+46  \n",
       "             Co56         4.074168e+45  \n",
       "             Co56         2.104327e+45  \n",
       "\n",
       "[485 rows x 8 columns]"
      ]
     },
     "execution_count": 12,
     "metadata": {},
     "output_type": "execute_result"
    }
   ],
   "source": [
    "isotope_decay_df = create_isotope_decay_df(cumulative_decay_df, gamma_ray_lines)\n",
    "isotope_decay_df"
   ]
  },
  {
   "cell_type": "markdown",
   "metadata": {},
   "source": [
    "Finally we can sum up the decay energy column and find that it gives a very similar result to the analytical solution above."
   ]
  },
  {
   "cell_type": "code",
   "execution_count": 13,
   "metadata": {},
   "outputs": [
    {
     "data": {
      "text/plain": [
       "1.8965311701805456e+50"
      ]
     },
     "execution_count": 13,
     "metadata": {},
     "output_type": "execute_result"
    }
   ],
   "source": [
    "sum(isotope_decay_df[\"decay_energy_erg\"])"
   ]
  }
 ],
 "metadata": {
  "kernelspec": {
   "display_name": "tardis",
   "language": "python",
   "name": "python3"
  },
  "language_info": {
   "codemirror_mode": {
    "name": "ipython",
    "version": 3
   },
   "file_extension": ".py",
   "mimetype": "text/x-python",
   "name": "python",
   "nbconvert_exporter": "python",
   "pygments_lexer": "ipython3",
   "version": "3.12.4"
  }
 },
 "nbformat": 4,
 "nbformat_minor": 2
}
