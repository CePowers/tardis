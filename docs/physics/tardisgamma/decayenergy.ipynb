{
 "cells": [
  {
   "cell_type": "markdown",
   "metadata": {},
   "source": [
    "# Radioactive Decay Energy\n",
    "\n",
    "Within the ejecta of a supernova, the $\\gamma$-rays largely come from the decay of $^{56}Ni$ into $^{56}Co$.\n",
    "This releases a large amount of energy. To understand how much energy is produced from this decay we look at the amount of energy 1 g of $^{56}Ni$ produces in 10 days"
   ]
  },
  {
   "cell_type": "markdown",
   "metadata": {
    "vscode": {
     "languageId": "plaintext"
    }
   },
   "source": [
    "The equation for radioactive decay is \n",
    "$$N(t) = N_\\mathrm{0} \\exp\\left(-\\lambda t \\right)$$\n",
    "$N(t)$ is the number of atoms after time t, $N_\\mathrm{0}$ is the initial number of atoms, and $\\lambda$ is the half life."
   ]
  },
  {
   "cell_type": "markdown",
   "metadata": {},
   "source": [
    "Using the molar mass, we find that 1g of $^{56}Ni$ has $1.0767e22$ atoms. The half life of $^{56}Ni$ is 6.10 days. Plugging these numbers into the equation we can find the number of atoms that have decayed after 10 days."
   ]
  },
  {
   "cell_type": "code",
   "execution_count": 2,
   "metadata": {},
   "outputs": [],
   "source": [
    "import numpy as np\n",
    "from astropy import units as u\n",
    "from astropy import constants as const\n",
    "\n",
    "#initial number of atoms\n",
    "n_0 = 1.0767e22\n",
    "#half life\n",
    "t_half = 6.10\n",
    "#time in days\n",
    "time = 10\n",
    "\n",
    "#number of atoms keft after 10 days\n",
    "n_final = n_0 * np.exp(-t_half * time)\n",
    "\n",
    "#number of atoms that have decayed\n",
    "n_decays = n_0 - n_final"
   ]
  },
  {
   "cell_type": "markdown",
   "metadata": {},
   "source": [
    "The $\\gamma$-rays that are released during this radiocative decay can be released from a number of energy level transitions. Each transition has an associated energy and a probability out of 100 decays. From the combination of all of these tranisitions and their probabilities, the total energy released per decay is $1.75 MeV$ <strong data-cite=\"1994Nadyozhin\">[]</strong>."
   ]
  },
  {
   "cell_type": "code",
   "execution_count": 3,
   "metadata": {},
   "outputs": [
    {
     "name": "stdout",
     "output_type": "stream",
     "text": [
      "The total energy released from radioactive decay of 1g of 56Ni after 10 days is: 1.884225e+28 eV\n"
     ]
    }
   ],
   "source": [
    "#energy per decay in eV\n",
    "energy_per_decay = 1.75e6\n",
    "\n",
    "total_energy = n_decays * energy_per_decay\n",
    "\n",
    "print(\"The total energy released from radioactive decay of 1g of 56Ni after 10 days is:\", total_energy, \"eV\")"
   ]
  },
  {
   "cell_type": "markdown",
   "metadata": {},
   "source": [
    "The $^{56}Co$ produced from the decay of $^{56}Ni$ is also radioactive and will decay into $^{56}Fe$ and release more $\\gamma$-rays. These decays also have a number of transitions with associated energies and probabilities which gives the total energy released per decay of 3.73MeV. The total rate of energy production for a mass of $^{56}Ni$ at a given time is given by the following equation:\n",
    "\n",
    "$$\\epsilon = \\frac{M_\\odot}{56m_{u}}\\frac{1}{\\tau_{\\text{Co}}-\\tau_{\\text{Ni}}}[[Q_{\\text{Ni}}(\\frac{\\tau_{\\text{Co}}}{\\tau_{\\text{Ni}}}-1)-Q_{\\text{Co}}]\\exp(-t/\\tau_{\\text{Ni}})+Q_{\\text{Co}}\\exp(-t/\\tau_{\\text{Co}})]\\frac{M_{Ni0}}{M_\\odot}$$\n",
    "\n",
    "$\\tau_{Ni}$ and $\\tau_{Co}$ are the lifetimes of Ni and Co respectively. $Q_{\\text{Ni}}$ and $Q_{\\text{Co}}$ are the energy per decay of $^{56}Ni$ and $^{56}Co$ respectively.\n",
    "\n",
    "If we plug these values into the equation we get the equation:\n",
    "\n",
    "$$\\epsilon = (6.45e43\\exp(-t/8.8)+1.45e43\\exp(-t/111.3))\\frac{M_{Ni0}}{M_\\odot} erg/s$$"
   ]
  },
  {
   "cell_type": "code",
   "execution_count": 16,
   "metadata": {},
   "outputs": [
    {
     "name": "stdout",
     "output_type": "stream",
     "text": [
      "The total energy production rate for 1 solar mass of 56Ni after 10 days is: 3.395750201245571e+43 erg/s\n"
     ]
    }
   ],
   "source": [
    "#time in days\n",
    "time = 10\n",
    "#mass of Ni56 in solar masses\n",
    "m_Ni56 = 1 \n",
    "\n",
    "energy_production_rate = (6.45e43 * np.exp(-time/8.8) + 1.45e43 * np.exp(-time/111.3)) * (m_Ni56/ 1)\n",
    "print(\"The total energy production rate for 1 solar mass of 56Ni after 10 days is:\", energy_production_rate, \"erg/s\")"
   ]
  },
  {
   "cell_type": "code",
   "execution_count": null,
   "metadata": {},
   "outputs": [],
   "source": []
  }
 ],
 "metadata": {
  "kernelspec": {
   "display_name": "tardis",
   "language": "python",
   "name": "python3"
  },
  "language_info": {
   "codemirror_mode": {
    "name": "ipython",
    "version": 3
   },
   "file_extension": ".py",
   "mimetype": "text/x-python",
   "name": "python",
   "nbconvert_exporter": "python",
   "pygments_lexer": "ipython3",
   "version": "3.12.4"
  }
 },
 "nbformat": 4,
 "nbformat_minor": 2
}
