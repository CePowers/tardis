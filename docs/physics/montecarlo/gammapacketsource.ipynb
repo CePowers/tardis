{
 "cells": [
  {
   "cell_type": "markdown",
   "metadata": {},
   "source": [
    "# Gamma Ray Packet Source\n",
    "\n",
    "## Packet Initialization\n",
    "\n",
    "### Packet Properties\n",
    "Each packet has the properties location, direction, energy, frequency (nu), and time.\n",
    "\n",
    "__Location__ is the position of of the packet. It is a function of the radius of the sphere.\n",
    "\n",
    "__Direction__ is the direction the packet is travelling. It is a function of angles $\\theta$ and $\\phi$.\n",
    "\n",
    "__Energy__ is the energy of the packet.\n",
    "\n",
    "__Nu__ is the frequency that the photons in the packet have.\n",
    "\n",
    "__Time__ is a property exclusive to the gamma ray packet source. It is sampled randomly from the decay of either Nickel-56 or Cobalt-56. \n",
    "\n"
   ]
  }
 ],
 "metadata": {
  "kernelspec": {
   "display_name": "tardis",
   "language": "python",
   "name": "python3"
  },
  "language_info": {
   "name": "python",
   "version": "3.11.5"
  }
 },
 "nbformat": 4,
 "nbformat_minor": 2
}
